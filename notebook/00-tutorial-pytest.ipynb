{
 "cells": [
  {
   "cell_type": "markdown",
   "metadata": {},
   "source": [
    "# Use `boar` to run unit tests\n",
    "\n",
    "Use `requirements/dev.txt` in the environment to run this notebook.\n",
    "\n",
    "This tutorial will require the `ipython_pytest` package:\n",
    "\n",
    "  - https://github.com/akaihola/ipython_pytest\n",
    "\n",
    "  - https://pypi.org/project/ipython_pytest/"
   ]
  },
  {
   "cell_type": "code",
   "execution_count": null,
   "metadata": {},
   "outputs": [],
   "source": [
    "%load_ext ipython_pytest"
   ]
  },
  {
   "cell_type": "code",
   "execution_count": null,
   "metadata": {},
   "outputs": [],
   "source": [
    "%%pytest\n",
    "\n",
    "def test_OK():\n",
    "    from pathlib import Path\n",
    "    from boar.__init__ import NOTEBOOK_PATH\n",
    "    notebook_path = Path(NOTEBOOK_PATH, \"00-test-OK.ipynb\")\n",
    "\n",
    "    from boar.run import check_notebook\n",
    "    check_notebook(notebook_path, True)"
   ]
  },
  {
   "cell_type": "code",
   "execution_count": null,
   "metadata": {
    "scrolled": true
   },
   "outputs": [],
   "source": [
    "%%pytest\n",
    "def test_KO():\n",
    "    from pathlib import Path\n",
    "    from boar.__init__ import NOTEBOOK_PATH\n",
    "    notebook_path = Path(NOTEBOOK_PATH, \"00-test-KO.ipynb\")\n",
    "\n",
    "    from boar.run import assert_notebook_error\n",
    "    assert_notebook_error(notebook_path, AssertionError, \"\", True)"
   ]
  },
  {
   "cell_type": "markdown",
   "metadata": {},
   "source": [
    "---"
   ]
  },
  {
   "cell_type": "markdown",
   "metadata": {},
   "source": [
    "# End of script"
   ]
  }
 ],
 "metadata": {
  "kernelspec": {
   "display_name": "boar-venv",
   "language": "python",
   "name": "boar-venv"
  },
  "language_info": {
   "codemirror_mode": {
    "name": "ipython",
    "version": 3
   },
   "file_extension": ".py",
   "mimetype": "text/x-python",
   "name": "python",
   "nbconvert_exporter": "python",
   "pygments_lexer": "ipython3",
   "version": "3.8.0"
  }
 },
 "nbformat": 4,
 "nbformat_minor": 4
}
