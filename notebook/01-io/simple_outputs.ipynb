{
 "cells": [
  {
   "cell_type": "code",
   "execution_count": null,
   "metadata": {},
   "outputs": [],
   "source": [
    "AAA = 0\n",
    "BBB = \"B\"\n",
    "CCC = 57\n",
    "DDD = lambda x: x+1\n",
    "EEE = None\n",
    "FFF = 78.56\n",
    "GGG = None"
   ]
  },
  {
   "cell_type": "code",
   "execution_count": null,
   "metadata": {},
   "outputs": [],
   "source": [
    "outputs_0 = {\n",
    "    \"a\" : 0\n",
    "}\n",
    "# export_start\n",
    "outputs_1 = {\n",
    "    \"b\" : BBB\n",
    "}\n",
    "# export_end\n",
    "outputs_2 = {\n",
    "    \"c\" : 2\n",
    "}"
   ]
  },
  {
   "cell_type": "code",
   "execution_count": null,
   "metadata": {},
   "outputs": [],
   "source": [
    "c = 2"
   ]
  },
  {
   "cell_type": "code",
   "execution_count": null,
   "metadata": {},
   "outputs": [],
   "source": [
    "# export_start\n",
    "outputs_3 = {\n",
    "    \"d\" : DDD(1)\n",
    "}\n",
    "# export_end"
   ]
  },
  {
   "cell_type": "code",
   "execution_count": null,
   "metadata": {},
   "outputs": [],
   "source": [
    "outputs_4 = {\"e\": EEE}\n",
    "outputs_5 = {\"f\": FFF}  # export_line\n",
    "outputs_6 = {\"g\": GGG}"
   ]
  }
 ],
 "metadata": {
  "kernelspec": {
   "display_name": "Python 3",
   "language": "python",
   "name": "python3"
  },
  "language_info": {
   "codemirror_mode": {
    "name": "ipython",
    "version": 3
   },
   "file_extension": ".py",
   "mimetype": "text/x-python",
   "name": "python",
   "nbconvert_exporter": "python",
   "pygments_lexer": "ipython3",
   "version": "3.8.0"
  }
 },
 "nbformat": 4,
 "nbformat_minor": 4
}
