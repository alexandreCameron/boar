{
 "cells": [
  {
   "cell_type": "markdown",
   "metadata": {},
   "source": [
    "# Tutorial to get notebook outputs\n",
    "\n",
    "\n",
    "Get outputs with tag in comments of the code:\n",
    "    \n",
    "    1. `export_start`, `export_end` for code blocks\n",
    "    2. `export_select` for line"
   ]
  },
  {
   "cell_type": "code",
   "execution_count": null,
   "metadata": {},
   "outputs": [],
   "source": [
    "from pathlib import Path\n",
    "\n",
    "from boar.testing import run_notebook\n",
    "from boar.__init__ import Notebook\n",
    "\n",
    "import logging\n",
    "logging.basicConfig(level=logging.DEBUG)\n",
    "\n",
    "\n",
    "%load_ext autoreload\n",
    "%autoreload 2"
   ]
  },
  {
   "cell_type": "code",
   "execution_count": null,
   "metadata": {
    "scrolled": true
   },
   "outputs": [],
   "source": [
    "outputs_0 = run_notebook(Path(Notebook._01.value, \"simple_outputs.ipynb\"), verbose=False)\n",
    "print(outputs_0)"
   ]
  },
  {
   "cell_type": "code",
   "execution_count": null,
   "metadata": {
    "scrolled": true
   },
   "outputs": [],
   "source": [
    "outputs_1 = run_notebook(Path(Notebook._01.value, \"simple_outputs.ipynb\"), verbose=True)\n",
    "print(outputs_1)"
   ]
  },
  {
   "cell_type": "code",
   "execution_count": null,
   "metadata": {
    "scrolled": true
   },
   "outputs": [],
   "source": [
    "outputs_2 = run_notebook(\n",
    "    Path(Notebook._01.value, \"simple_inputs.ipynb\"),\n",
    "    inputs={\"new\": \"Hello_world\", \"BBB\": \"import value: not B!\"},\n",
    "    verbose=False)\n",
    "print(outputs_2)"
   ]
  },
  {
   "cell_type": "markdown",
   "metadata": {},
   "source": [
    "---"
   ]
  },
  {
   "cell_type": "markdown",
   "metadata": {},
   "source": [
    "# End of script"
   ]
  }
 ],
 "metadata": {
  "kernelspec": {
   "display_name": "boar-venv",
   "language": "python",
   "name": "boar-venv"
  },
  "language_info": {
   "codemirror_mode": {
    "name": "ipython",
    "version": 3
   },
   "file_extension": ".py",
   "mimetype": "text/x-python",
   "name": "python",
   "nbconvert_exporter": "python",
   "pygments_lexer": "ipython3",
   "version": "3.8.0"
  }
 },
 "nbformat": 4,
 "nbformat_minor": 4
}
