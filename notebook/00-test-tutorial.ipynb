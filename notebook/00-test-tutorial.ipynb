{
 "cells": [
  {
   "cell_type": "markdown",
   "metadata": {},
   "source": [
    "# Tutorial to run unit tests (succeed or fail)\n",
    "\n",
    "**If you want to use boar for pytests go to the [./tests/](https://github.com/alexandreCameron/boar/tree/master/tests) directory of the repo.**\n",
    "\n",
    "Use [./requirements/dev.txt](https://github.com/alexandreCameron/boar/blob/master/requirements/dev.txt) in the environment to run this notebook.\n",
    "\n",
    "If you are wondering why the imports are done within the function please take a look at:\n",
    "[./USAGE.md](https://github.com/alexandreCameron/boar/blob/master/USAGE.md)\n",
    "\n",
    "This tutorial will require the `ipython_pytest` package:\n",
    "\n",
    "  - https://github.com/akaihola/ipython_pytest\n",
    "\n",
    "  - https://pypi.org/project/ipython_pytest/"
   ]
  },
  {
   "cell_type": "code",
   "execution_count": null,
   "metadata": {},
   "outputs": [],
   "source": [
    "%load_ext ipython_pytest"
   ]
  },
  {
   "cell_type": "markdown",
   "metadata": {},
   "source": [
    "## Test OK notebook"
   ]
  },
  {
   "cell_type": "code",
   "execution_count": null,
   "metadata": {},
   "outputs": [],
   "source": [
    "%%pytest\n",
    "\n",
    "def test_OK():\n",
    "    from pathlib import Path\n",
    "    from boar.__init__ import Notebook\n",
    "    notebook_path = Path(Notebook._00.value, \"OK.ipynb\")\n",
    "\n",
    "    from boar.testing import check_notebook\n",
    "    check_notebook(notebook_path, True)"
   ]
  },
  {
   "cell_type": "markdown",
   "metadata": {},
   "source": [
    "## Get information on the other notebooks"
   ]
  },
  {
   "cell_type": "code",
   "execution_count": null,
   "metadata": {},
   "outputs": [],
   "source": [
    "def get_parametrize_for_test(notebook_path):\n",
    "    test_notebooks = []\n",
    "    for test_path in sorted(notebook_path.iterdir()):\n",
    "        if not test_path.name.endswith(\".ipynb\"):\n",
    "            continue\n",
    "        test_error_str = test_path.name.replace(\".ipynb\", \"\").split(\"-\")[0]\n",
    "        \n",
    "        test_error = None\n",
    "        if test_error_str!=\"OK\":\n",
    "            temp = {}\n",
    "            exec(f\"error = {test_error_str}\", temp)\n",
    "            test_error = temp[\"error\"] \n",
    "        test_notebooks.append((test_path.name, test_error))\n",
    "    return test_notebooks"
   ]
  },
  {
   "cell_type": "code",
   "execution_count": null,
   "metadata": {},
   "outputs": [],
   "source": [
    "from boar.__init__ import Notebook\n",
    "get_parametrize_for_test(Notebook._00.value)"
   ]
  },
  {
   "cell_type": "markdown",
   "metadata": {},
   "source": [
    "## Test error notebooks"
   ]
  },
  {
   "cell_type": "code",
   "execution_count": null,
   "metadata": {
    "scrolled": false
   },
   "outputs": [],
   "source": [
    "%%pytest\n",
    "def test_AssertionError():\n",
    "    from pathlib import Path\n",
    "    from boar.__init__ import Notebook\n",
    "    ipynb_path = Path(Notebook._00.value, \"AssertionError.ipynb\")\n",
    "\n",
    "    from boar.testing import assert_notebook_error\n",
    "    assert_notebook_error(ipynb_path, AssertionError, \"\", True)\n",
    "\n",
    "\n",
    "def test_ImportError():\n",
    "    from pathlib import Path\n",
    "    from boar.__init__ import Notebook\n",
    "    ipynb_path = Path(Notebook._00.value, \"ImportError.ipynb\")\n",
    "\n",
    "    from boar.testing import assert_notebook_error\n",
    "    assert_notebook_error(ipynb_path, ImportError, \"\", True)\n",
    "\n",
    "    \n",
    "def test_IndexError():\n",
    "    from pathlib import Path\n",
    "    from boar.__init__ import Notebook\n",
    "    ipynb_path = Path(Notebook._00.value, \"IndexError.ipynb\")\n",
    "\n",
    "    from boar.testing import assert_notebook_error\n",
    "    assert_notebook_error(ipynb_path, IndexError, \"\", True)\n",
    "\n",
    "    \n",
    "def test_KeyboardInterrupt():\n",
    "    from pathlib import Path\n",
    "    from boar.__init__ import Notebook\n",
    "    ipynb_path = Path(Notebook._00.value, \"KeyboardInterrupt.ipynb\")\n",
    "\n",
    "    from boar.testing import assert_notebook_error\n",
    "    assert_notebook_error(ipynb_path, KeyboardInterrupt, \"\", True)\n",
    "\n",
    "\n",
    "def test_KeyError():\n",
    "    from pathlib import Path\n",
    "    from boar.__init__ import Notebook\n",
    "    ipynb_path = Path(Notebook._00.value, \"KeyError.ipynb\")\n",
    "\n",
    "    from boar.testing import assert_notebook_error\n",
    "    assert_notebook_error(ipynb_path, KeyError, \"\", True)\n",
    "\n",
    "\n",
    "def test_ModuleNotFoundError():\n",
    "    from pathlib import Path\n",
    "    from boar.__init__ import Notebook\n",
    "    ipynb_path = Path(Notebook._00.value, \"ModuleNotFoundError.ipynb\")\n",
    "\n",
    "    from boar.testing import assert_notebook_error\n",
    "    assert_notebook_error(ipynb_path, ModuleNotFoundError, \"\", True)\n",
    "\n",
    "\n",
    "def test_NameError():\n",
    "    from pathlib import Path\n",
    "    from boar.__init__ import Notebook\n",
    "    ipynb_path = Path(Notebook._00.value, \"NameError.ipynb\")\n",
    "\n",
    "    from boar.testing import assert_notebook_error\n",
    "    assert_notebook_error(ipynb_path, NameError, \"\", True)\n",
    "\n",
    "\n",
    "def test_StopIteration():\n",
    "    from pathlib import Path\n",
    "    from boar.__init__ import Notebook\n",
    "    ipynb_path = Path(Notebook._00.value, \"StopIteration.ipynb\")\n",
    "\n",
    "    from boar.testing import assert_notebook_error\n",
    "    assert_notebook_error(ipynb_path, StopIteration, \"\", True)\n",
    "    \n",
    "\n",
    "def test_TypeError():\n",
    "    from pathlib import Path\n",
    "    from boar.__init__ import Notebook\n",
    "    ipynb_path = Path(Notebook._00.value, \"TypeError.ipynb\")\n",
    "\n",
    "    from boar.testing import assert_notebook_error\n",
    "    assert_notebook_error(ipynb_path, TypeError, \"\", True)\n",
    "\n",
    "\n",
    "def test_ValueError():\n",
    "    from pathlib import Path\n",
    "    from boar.__init__ import Notebook\n",
    "    ipynb_path = Path(Notebook._00.value, \"ValueError.ipynb\")\n",
    "\n",
    "    from boar.testing import assert_notebook_error\n",
    "    assert_notebook_error(ipynb_path, ValueError, \"\", True)\n",
    "\n",
    "\n",
    "def test_ZeroDivisionError():\n",
    "    from pathlib import Path\n",
    "    from boar.__init__ import Notebook\n",
    "    ipynb_path = Path(Notebook._00.value, \"ZeroDivisionError.ipynb\")\n",
    "\n",
    "    from boar.testing import assert_notebook_error\n",
    "    assert_notebook_error(ipynb_path, ZeroDivisionError, \"\", True)"
   ]
  },
  {
   "cell_type": "code",
   "execution_count": null,
   "metadata": {},
   "outputs": [],
   "source": [
    "%%pytest\n",
    "def test_ValueError_with_message():\n",
    "    from pathlib import Path\n",
    "    from boar.__init__ import Notebook\n",
    "    notebook_path = Path(Notebook._00.value, \"ValueError-with-message.ipynb\")\n",
    "\n",
    "    from boar.testing import assert_notebook_error\n",
    "    assert_notebook_error(notebook_path, ValueError, \"message\", True)"
   ]
  },
  {
   "cell_type": "markdown",
   "metadata": {},
   "source": [
    "---"
   ]
  },
  {
   "cell_type": "markdown",
   "metadata": {},
   "source": [
    "# End of script"
   ]
  }
 ],
 "metadata": {
  "kernelspec": {
   "display_name": "boar-venv",
   "language": "python",
   "name": "boar-venv"
  },
  "language_info": {
   "codemirror_mode": {
    "name": "ipython",
    "version": 3
   },
   "file_extension": ".py",
   "mimetype": "text/x-python",
   "name": "python",
   "nbconvert_exporter": "python",
   "pygments_lexer": "ipython3",
   "version": "3.8.0"
  }
 },
 "nbformat": 4,
 "nbformat_minor": 4
}
