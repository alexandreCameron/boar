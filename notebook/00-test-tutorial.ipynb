{
 "cells": [
  {
   "cell_type": "markdown",
   "metadata": {},
   "source": [
    "# Tutorial to run unit tests (succeed or fail)\n",
    "\n",
    "**If you want to use boar for pytests go to the [./tests/](https://github.com/alexandreCameron/boar/tree/master/tests) directory of the repo.**\n",
    "\n",
    "Use [./requirements/dev.txt](https://github.com/alexandreCameron/boar/blob/master/requirements/dev.txt) in the environment to run this notebook.\n",
    "\n",
    "If you are wondering why the imports are done within the function please take a look at:\n",
    "[./USAGE.md](https://github.com/alexandreCameron/boar/blob/master/USAGE.md)\n",
    "\n",
    "It is recommended to use `ipython_pytest` package for this tutorial:\n",
    "\n",
    "  - https://github.com/akaihola/ipython_pytest\n",
    "\n",
    "  - https://pypi.org/project/ipython_pytest/\n",
    "\n",
    "\n",
    "After installing `pytest` and `ipython_pytest`, activate `ipython_pytest_magic` which is set to False by default.\n"
   ]
  },
  {
   "cell_type": "code",
   "execution_count": null,
   "metadata": {},
   "outputs": [],
   "source": [
    "from pathlib import Path\n",
    "from boar.__init__ import Notebook\n",
    "\n",
    "notebook_dir = Notebook._00.value\n",
    "if Path.cwd().parts[-1] == \"notebook\":\n",
    "    notebook_dir = Path(Path.cwd(), Path(Notebook._00.value).parts[-1])\n",
    "\n",
    "ipython_pytest_magic = False\n",
    "\n",
    "if ipython_pytest_magic:\n",
    "    %load_ext ipython_pytest\n",
    "    pass"
   ]
  },
  {
   "cell_type": "markdown",
   "metadata": {},
   "source": [
    "## Test OK notebook"
   ]
  },
  {
   "cell_type": "code",
   "execution_count": null,
   "metadata": {},
   "outputs": [],
   "source": [
    "if ipython_pytest_magic:\n",
    "    %%pytest\n",
    "    pass\n",
    "\n",
    "def test_OK():\n",
    "    from pathlib import Path\n",
    "    from boar.__init__ import Notebook\n",
    "    notebook_dir = Notebook._00.value\n",
    "    if Path.cwd().parts[-1] == \"notebook\":\n",
    "        notebook_dir = Path(Path.cwd(), Path(Notebook._00.value).parts[-1])\n",
    "    notebook_path = Path(notebook_dir, \"OK.ipynb\")\n",
    "\n",
    "    from boar.testing import assert_notebook\n",
    "    assert_notebook(notebook_path, True)"
   ]
  },
  {
   "cell_type": "markdown",
   "metadata": {},
   "source": [
    "## Get information on the other notebooks"
   ]
  },
  {
   "cell_type": "code",
   "execution_count": null,
   "metadata": {},
   "outputs": [],
   "source": [
    "def get_parametrize_for_test(notebook_path):\n",
    "    test_notebooks = []\n",
    "    for test_path in sorted(notebook_path.iterdir()):\n",
    "        if not test_path.name.endswith(\".ipynb\"):\n",
    "            continue\n",
    "        test_error_str = test_path.name.replace(\".ipynb\", \"\").split(\"-\")[0]\n",
    "        \n",
    "        test_error = None\n",
    "        if test_error_str not in [\"OK\", \"Matplotlib\"]:\n",
    "            temp = {}\n",
    "            exec(f\"error = {test_error_str}\", temp)\n",
    "            test_error = temp[\"error\"] \n",
    "        test_notebooks.append((test_path.name, test_error))\n",
    "    return test_notebooks"
   ]
  },
  {
   "cell_type": "code",
   "execution_count": null,
   "metadata": {},
   "outputs": [],
   "source": [
    "from boar.__init__ import Notebook\n",
    "get_parametrize_for_test(notebook_dir)"
   ]
  },
  {
   "cell_type": "markdown",
   "metadata": {},
   "source": [
    "## Test error notebooks"
   ]
  },
  {
   "cell_type": "code",
   "execution_count": null,
   "metadata": {
    "scrolled": false
   },
   "outputs": [],
   "source": [
    "if ipython_pytest_magic:\n",
    "    %%pytest\n",
    "    pass\n",
    "\n",
    "def test_AssertionError():\n",
    "    from pathlib import Path\n",
    "    from boar.__init__ import Notebook\n",
    "    notebook_dir = Notebook._00.value\n",
    "    if Path.cwd().parts[-1] == \"notebook\":\n",
    "        notebook_dir = Path(Path.cwd(), Path(Notebook._00.value).parts[-1])\n",
    "    ipynb_path = Path(notebook_dir, \"AssertionError.ipynb\")\n",
    "\n",
    "    from boar.testing import assert_error_notebook\n",
    "    assert_error_notebook(ipynb_path, AssertionError, \"\", True)\n",
    "\n",
    "\n",
    "def test_ImportError():\n",
    "    from pathlib import Path\n",
    "    from boar.__init__ import Notebook\n",
    "    notebook_dir = Notebook._00.value\n",
    "    if Path.cwd().parts[-1] == \"notebook\":\n",
    "        notebook_dir = Path(Path.cwd(), Path(Notebook._00.value).parts[-1])\n",
    "    ipynb_path = Path(notebook_dir, \"ImportError.ipynb\")\n",
    "\n",
    "    from boar.testing import assert_error_notebook\n",
    "    assert_error_notebook(ipynb_path, ImportError, \"\", True)\n",
    "\n",
    "\n",
    "def test_IndexError():\n",
    "    from pathlib import Path\n",
    "    from boar.__init__ import Notebook\n",
    "    notebook_dir = Notebook._00.value\n",
    "    if Path.cwd().parts[-1] == \"notebook\":\n",
    "        notebook_dir = Path(Path.cwd(), Path(Notebook._00.value).parts[-1])\n",
    "    ipynb_path = Path(notebook_dir, \"IndexError.ipynb\")\n",
    "\n",
    "    from boar.testing import assert_error_notebook\n",
    "    assert_error_notebook(ipynb_path, IndexError, \"\", True)\n",
    "\n",
    "\n",
    "def test_KeyboardInterrupt():\n",
    "    from pathlib import Path\n",
    "    from boar.__init__ import Notebook\n",
    "    notebook_dir = Notebook._00.value\n",
    "    if Path.cwd().parts[-1] == \"notebook\":\n",
    "        notebook_dir = Path(Path.cwd(), Path(Notebook._00.value).parts[-1])\n",
    "    ipynb_path = Path(notebook_dir, \"KeyboardInterrupt.ipynb\")\n",
    "\n",
    "    from boar.testing import assert_error_notebook\n",
    "    assert_error_notebook(ipynb_path, KeyboardInterrupt, \"\", True)\n",
    "\n",
    "\n",
    "def test_KeyError():\n",
    "    from pathlib import Path\n",
    "    from boar.__init__ import Notebook\n",
    "    notebook_dir = Notebook._00.value\n",
    "    if Path.cwd().parts[-1] == \"notebook\":\n",
    "        notebook_dir = Path(Path.cwd(), Path(Notebook._00.value).parts[-1])\n",
    "    ipynb_path = Path(notebook_dir, \"KeyError.ipynb\")\n",
    "\n",
    "    from boar.testing import assert_error_notebook\n",
    "    assert_error_notebook(ipynb_path, KeyError, \"\", True)\n",
    "\n",
    "\n",
    "def test_ModuleNotFoundError():\n",
    "    from pathlib import Path\n",
    "    from boar.__init__ import Notebook\n",
    "    notebook_dir = Notebook._00.value\n",
    "    if Path.cwd().parts[-1] == \"notebook\":\n",
    "        notebook_dir = Path(Path.cwd(), Path(Notebook._00.value).parts[-1])\n",
    "    ipynb_path = Path(notebook_dir, \"ModuleNotFoundError.ipynb\")\n",
    "\n",
    "    from boar.testing import assert_error_notebook\n",
    "    assert_error_notebook(ipynb_path, ModuleNotFoundError, \"\", True)\n",
    "\n",
    "\n",
    "def test_NameError():\n",
    "    from pathlib import Path\n",
    "    from boar.__init__ import Notebook\n",
    "    notebook_dir = Notebook._00.value\n",
    "    if Path.cwd().parts[-1] == \"notebook\":\n",
    "        notebook_dir = Path(Path.cwd(), Path(Notebook._00.value).parts[-1])\n",
    "    ipynb_path = Path(notebook_dir, \"NameError.ipynb\")\n",
    "\n",
    "    from boar.testing import assert_error_notebook\n",
    "    assert_error_notebook(ipynb_path, NameError, \"\", True)\n",
    "\n",
    "\n",
    "def test_StopIteration():\n",
    "    from pathlib import Path\n",
    "    from boar.__init__ import Notebook\n",
    "    notebook_dir = Notebook._00.value\n",
    "    if Path.cwd().parts[-1] == \"notebook\":\n",
    "        notebook_dir = Path(Path.cwd(), Path(Notebook._00.value).parts[-1])\n",
    "    ipynb_path = Path(notebook_dir, \"StopIteration.ipynb\")\n",
    "\n",
    "    from boar.testing import assert_error_notebook\n",
    "    assert_error_notebook(ipynb_path, StopIteration, \"\", True)\n",
    "    \n",
    "\n",
    "def test_TypeError():\n",
    "    from pathlib import Path\n",
    "    from boar.__init__ import Notebook\n",
    "    notebook_dir = Notebook._00.value\n",
    "    if Path.cwd().parts[-1] == \"notebook\":\n",
    "        notebook_dir = Path(Path.cwd(), Path(Notebook._00.value).parts[-1])\n",
    "    ipynb_path = Path(notebook_dir, \"TypeError.ipynb\")\n",
    "\n",
    "    from boar.testing import assert_error_notebook\n",
    "    assert_error_notebook(ipynb_path, TypeError, \"\", True)\n",
    "\n",
    "\n",
    "def test_ValueError():\n",
    "    from pathlib import Path\n",
    "    from boar.__init__ import Notebook\n",
    "    notebook_dir = Notebook._00.value\n",
    "    if Path.cwd().parts[-1] == \"notebook\":\n",
    "        notebook_dir = Path(Path.cwd(), Path(Notebook._00.value).parts[-1])\n",
    "    ipynb_path = Path(notebook_dir, \"ValueError.ipynb\")\n",
    "\n",
    "    from boar.testing import assert_error_notebook\n",
    "    assert_error_notebook(ipynb_path, ValueError, \"\", True)\n",
    "\n",
    "\n",
    "def test_ZeroDivisionError():\n",
    "    from pathlib import Path\n",
    "    from boar.__init__ import Notebook\n",
    "    notebook_dir = Notebook._00.value\n",
    "    if Path.cwd().parts[-1] == \"notebook\":\n",
    "        notebook_dir = Path(Path.cwd(), Path(Notebook._00.value).parts[-1])\n",
    "    ipynb_path = Path(notebook_dir, \"ZeroDivisionError.ipynb\")\n",
    "\n",
    "    from boar.testing import assert_error_notebook\n",
    "    assert_error_notebook(ipynb_path, ZeroDivisionError, \"\", True)"
   ]
  },
  {
   "cell_type": "code",
   "execution_count": null,
   "metadata": {},
   "outputs": [],
   "source": [
    "if ipython_pytest_magic:\n",
    "    %%pytest\n",
    "    pass\n",
    "\n",
    "def test_ValueError_with_message():\n",
    "    from pathlib import Path\n",
    "    from boar.__init__ import Notebook\n",
    "    notebook_dir = Notebook._00.value\n",
    "    if Path.cwd().parts[-1] == \"notebook\":\n",
    "        notebook_dir = Path(Path.cwd(), Path(Notebook._00.value).parts[-1])\n",
    "    notebook_path = Path(notebook_dir, f\"ValueError-with-message.ipynb\")\n",
    "\n",
    "    from boar.testing import assert_error_notebook\n",
    "    assert_error_notebook(notebook_path, ValueError, \"message\", True)"
   ]
  },
  {
   "cell_type": "code",
   "execution_count": null,
   "metadata": {
    "scrolled": false
   },
   "outputs": [],
   "source": [
    "variables = dict(locals())\n",
    "\n",
    "for key, value in variables.items():\n",
    "    if key.startswith(\"test\"):\n",
    "        print(key)\n",
    "        exec(f\"{key}()\")\n",
    "        print(50 * \"=\")\n",
    "        print(3*\"\\n\")"
   ]
  },
  {
   "cell_type": "markdown",
   "metadata": {},
   "source": [
    "---"
   ]
  },
  {
   "cell_type": "markdown",
   "metadata": {},
   "source": [
    "# End of script"
   ]
  }
 ],
 "metadata": {
  "kernelspec": {
   "display_name": "boar-venv",
   "language": "python",
   "name": "boar-venv"
  },
  "language_info": {
   "codemirror_mode": {
    "name": "ipython",
    "version": 3
   },
   "file_extension": ".py",
   "mimetype": "text/x-python",
   "name": "python",
   "nbconvert_exporter": "python",
   "pygments_lexer": "ipython3",
   "version": "3.8.0"
  }
 },
 "nbformat": 4,
 "nbformat_minor": 4
}
