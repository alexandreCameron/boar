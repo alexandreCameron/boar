{
 "cells": [
  {
   "cell_type": "markdown",
   "metadata": {},
   "source": [
    "# Tutorial to use `boar` to run unit tests\n",
    "\n",
    "**If you want to use boar for pytests go to the `tests/` directory of the repo.**\n",
    "\n",
    "Use `requirements/dev.txt` in the environment to run this notebook.\n",
    "\n",
    "This tutorial will require the `ipython_pytest` package:\n",
    "\n",
    "  - https://github.com/akaihola/ipython_pytest\n",
    "\n",
    "  - https://pypi.org/project/ipython_pytest/"
   ]
  },
  {
   "cell_type": "code",
   "execution_count": null,
   "metadata": {},
   "outputs": [],
   "source": [
    "%load_ext ipython_pytest"
   ]
  },
  {
   "cell_type": "markdown",
   "metadata": {},
   "source": [
    "## Test OK notebook"
   ]
  },
  {
   "cell_type": "code",
   "execution_count": null,
   "metadata": {},
   "outputs": [],
   "source": [
    "%%pytest\n",
    "\n",
    "def test_OK():\n",
    "    from pathlib import Path\n",
    "    from boar.__init__ import NOTEBOOK_PATH\n",
    "    notebook_path = Path(NOTEBOOK_PATH, \"00-test-OK.ipynb\")\n",
    "\n",
    "    from boar.testing import check_notebook\n",
    "    check_notebook(notebook_path, True)"
   ]
  },
  {
   "cell_type": "markdown",
   "metadata": {},
   "source": [
    "## Get information on the other notebooks"
   ]
  },
  {
   "cell_type": "code",
   "execution_count": null,
   "metadata": {},
   "outputs": [],
   "source": [
    "from pathlib import Path\n",
    "from boar.__init__ import NOTEBOOK_PATH_00"
   ]
  },
  {
   "cell_type": "code",
   "execution_count": null,
   "metadata": {},
   "outputs": [],
   "source": [
    "def get_parametrize_for_test(notebook_path):\n",
    "    test_notebooks = []\n",
    "    for test_path in sorted(notebook_path.iterdir()):\n",
    "        if not test_path.name.endswith(\".ipynb\"):\n",
    "            continue\n",
    "        test_error_str = test_path.name.replace(\".ipynb\", \"\").split(\"-\")[0]\n",
    "\n",
    "        test_error = None\n",
    "        if test_error_str!=\"OK\":\n",
    "            temp = {}\n",
    "            exec(f\"error = {test_error_str}\", temp)\n",
    "            test_error = temp[\"error\"] \n",
    "        test_notebooks.append((test_path.name, test_error))\n",
    "    return test_notebooks"
   ]
  },
  {
   "cell_type": "code",
   "execution_count": null,
   "metadata": {},
   "outputs": [],
   "source": [
    "get_parametrize_for_test(NOTEBOOK_PATH_00)"
   ]
  },
  {
   "cell_type": "markdown",
   "metadata": {},
   "source": [
    "## Test error notebooks"
   ]
  },
  {
   "cell_type": "code",
   "execution_count": null,
   "metadata": {
    "scrolled": true
   },
   "outputs": [],
   "source": [
    "%%pytest\n",
    "def test_AssertionError():\n",
    "    from pathlib import Path\n",
    "    from boar.__init__ import NOTEBOOK_PATH_00\n",
    "    NOTEBOOK_PATH_00 = Path(NOTEBOOK_PATH_00, \"AssertionError.ipynb\")\n",
    "\n",
    "    from boar.testing import assert_notebook_error\n",
    "    assert_notebook_error(NOTEBOOK_PATH_00, AssertionError, \"\", True)\n",
    "\n",
    "\n",
    "def test_ImportError():\n",
    "    from pathlib import Path\n",
    "    from boar.__init__ import NOTEBOOK_PATH_00\n",
    "    NOTEBOOK_PATH_00 = Path(NOTEBOOK_PATH_00, \"ImportError.ipynb\")\n",
    "\n",
    "    from boar.testing import assert_notebook_error\n",
    "    assert_notebook_error(NOTEBOOK_PATH_00, ImportError, \"\", True)\n",
    "\n",
    "    \n",
    "def test_IndexError():\n",
    "    from pathlib import Path\n",
    "    from boar.__init__ import NOTEBOOK_PATH_00\n",
    "    NOTEBOOK_PATH_00 = Path(NOTEBOOK_PATH_00, \"IndexError.ipynb\")\n",
    "\n",
    "    from boar.testing import assert_notebook_error\n",
    "    assert_notebook_error(NOTEBOOK_PATH_00, IndexError, \"\", True)\n",
    "\n",
    "    \n",
    "def test_KeyboardInterrupt():\n",
    "    from pathlib import Path\n",
    "    from boar.__init__ import NOTEBOOK_PATH_00\n",
    "    NOTEBOOK_PATH_00 = Path(NOTEBOOK_PATH_00, \"KeyboardInterrupt.ipynb\")\n",
    "\n",
    "    from boar.testing import assert_notebook_error\n",
    "    assert_notebook_error(NOTEBOOK_PATH_00, KeyboardInterrupt, \"\", True)\n",
    "\n",
    "\n",
    "def test_KeyError():\n",
    "    from pathlib import Path\n",
    "    from boar.__init__ import NOTEBOOK_PATH_00\n",
    "    NOTEBOOK_PATH_00 = Path(NOTEBOOK_PATH_00, \"KeyError.ipynb\")\n",
    "\n",
    "    from boar.testing import assert_notebook_error\n",
    "    assert_notebook_error(NOTEBOOK_PATH_00, KeyError, \"\", True)\n",
    "\n",
    "\n",
    "def test_ModuleNotFoundError():\n",
    "    from pathlib import Path\n",
    "    from boar.__init__ import NOTEBOOK_PATH_00\n",
    "    NOTEBOOK_PATH_00 = Path(NOTEBOOK_PATH_00, \"ModuleNotFoundError.ipynb\")\n",
    "\n",
    "    from boar.testing import assert_notebook_error\n",
    "    assert_notebook_error(NOTEBOOK_PATH_00, ModuleNotFoundError, \"\", True)\n",
    "\n",
    "\n",
    "def test_NameError():\n",
    "    from pathlib import Path\n",
    "    from boar.__init__ import NOTEBOOK_PATH_00\n",
    "    NOTEBOOK_PATH_00 = Path(NOTEBOOK_PATH_00, \"NameError.ipynb\")\n",
    "\n",
    "    from boar.testing import assert_notebook_error\n",
    "    assert_notebook_error(NOTEBOOK_PATH_00, NameError, \"\", True)\n",
    "\n",
    "\n",
    "def test_StopIteration():\n",
    "    from pathlib import Path\n",
    "    from boar.__init__ import NOTEBOOK_PATH_00\n",
    "    NOTEBOOK_PATH_00 = Path(NOTEBOOK_PATH_00, \"StopIteration.ipynb\")\n",
    "\n",
    "    from boar.testing import assert_notebook_error\n",
    "    assert_notebook_error(NOTEBOOK_PATH_00, StopIteration, \"\", True)\n",
    "    \n",
    "\n",
    "def test_TypeError():\n",
    "    from pathlib import Path\n",
    "    from boar.__init__ import NOTEBOOK_PATH_00\n",
    "    NOTEBOOK_PATH_00 = Path(NOTEBOOK_PATH_00, \"TypeError.ipynb\")\n",
    "\n",
    "    from boar.testing import assert_notebook_error\n",
    "    assert_notebook_error(NOTEBOOK_PATH_00, TypeError, \"\", True)\n",
    "\n",
    "\n",
    "def test_ValueError():\n",
    "    from pathlib import Path\n",
    "    from boar.__init__ import NOTEBOOK_PATH_00\n",
    "    NOTEBOOK_PATH_00 = Path(NOTEBOOK_PATH_00, \"ValueError.ipynb\")\n",
    "\n",
    "    from boar.testing import assert_notebook_error\n",
    "    assert_notebook_error(NOTEBOOK_PATH_00, ValueError, \"\", True)\n",
    "\n",
    "\n",
    "def test_ZeroDivisionError():\n",
    "    from pathlib import Path\n",
    "    from boar.__init__ import NOTEBOOK_PATH_00\n",
    "    NOTEBOOK_PATH_00 = Path(NOTEBOOK_PATH_00, \"ZeroDivisionError.ipynb\")\n",
    "\n",
    "    from boar.testing import assert_notebook_error\n",
    "    assert_notebook_error(NOTEBOOK_PATH_00, ZeroDivisionError, \"\", True)"
   ]
  },
  {
   "cell_type": "code",
   "execution_count": null,
   "metadata": {},
   "outputs": [],
   "source": [
    "%%pytest\n",
    "def test_ValueError_with_message():\n",
    "    from pathlib import Path\n",
    "    from boar.__init__ import NOTEBOOK_PATH_00\n",
    "    notebook_path = Path(NOTEBOOK_PATH_00, \"ValueError-with-message.ipynb\")\n",
    "\n",
    "    from boar.testing import assert_notebook_error\n",
    "    assert_notebook_error(notebook_path, ValueError, \"message\", True)"
   ]
  },
  {
   "cell_type": "markdown",
   "metadata": {},
   "source": [
    "---"
   ]
  },
  {
   "cell_type": "markdown",
   "metadata": {},
   "source": [
    "# End of script"
   ]
  }
 ],
 "metadata": {
  "kernelspec": {
   "display_name": "boar-venv",
   "language": "python",
   "name": "boar-venv"
  },
  "language_info": {
   "codemirror_mode": {
    "name": "ipython",
    "version": 3
   },
   "file_extension": ".py",
   "mimetype": "text/x-python",
   "name": "python",
   "nbconvert_exporter": "python",
   "pygments_lexer": "ipython3",
   "version": "3.8.0"
  }
 },
 "nbformat": 4,
 "nbformat_minor": 4
}
