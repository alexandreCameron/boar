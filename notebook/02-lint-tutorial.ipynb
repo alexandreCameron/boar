{
 "cells": [
  {
   "cell_type": "markdown",
   "metadata": {},
   "source": [
    "# Tutorial to lint notebooks\n",
    "\n",
    "1. Detect if cells are executed\n",
    "\n",
    "2. Remove execution counts and outputs to make clean\n",
    "\n",
    "3. Perform action recursively on a folder"
   ]
  },
  {
   "cell_type": "code",
   "execution_count": null,
   "metadata": {},
   "outputs": [],
   "source": [
    "from pathlib import Path\n",
    "\n",
    "from boar.__init__ import Notebook, BoarError\n",
    "from boar.linting import lint_notebook\n",
    "\n",
    "import logging\n",
    "logging.basicConfig(level=logging.DEBUG)\n",
    "\n",
    "notebook_dir = Notebook._02.value\n",
    "if Path.cwd().parts[-1] == \"notebook\":\n",
    "    notebook_dir = Path(Path.cwd(), Path(Notebook._02.value).parts[-1])\n",
    "\n",
    "%load_ext autoreload\n",
    "%autoreload 2"
   ]
  },
  {
   "cell_type": "code",
   "execution_count": null,
   "metadata": {},
   "outputs": [],
   "source": [
    "lint_notebook(Path(notebook_dir, \"0-execution.ipynb\"), verbose=False)"
   ]
  },
  {
   "cell_type": "code",
   "execution_count": null,
   "metadata": {},
   "outputs": [],
   "source": [
    "try:\n",
    "    lint_notebook(notebook_dir, verbose=False)\n",
    "except BoarError as err:\n",
    "    print(err)"
   ]
  },
  {
   "cell_type": "code",
   "execution_count": null,
   "metadata": {},
   "outputs": [],
   "source": [
    "lint_notebook(notebook_dir, verbose=False, recursion_level=-1000)"
   ]
  },
  {
   "cell_type": "markdown",
   "metadata": {},
   "source": [
    "---"
   ]
  }
 ],
 "metadata": {
  "kernelspec": {
   "display_name": "boar-venv",
   "language": "python",
   "name": "boar-venv"
  },
  "language_info": {
   "codemirror_mode": {
    "name": "ipython",
    "version": 3
   },
   "file_extension": ".py",
   "mimetype": "text/x-python",
   "name": "python",
   "nbconvert_exporter": "python",
   "pygments_lexer": "ipython3",
   "version": "3.8.0"
  }
 },
 "nbformat": 4,
 "nbformat_minor": 4
}
